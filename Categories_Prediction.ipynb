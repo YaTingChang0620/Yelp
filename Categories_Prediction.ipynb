{
 "cells": [
  {
   "cell_type": "code",
   "execution_count": 62,
   "metadata": {},
   "outputs": [],
   "source": [
    "import pandas as pd\n",
    "import numpy as np\n",
    "from collections import Counter \n",
    "from operator import itemgetter\n",
    "import matplotlib.pyplot as plt\n",
    "from sklearn.preprocessing import MultiLabelBinarizer\n",
    "%config InlineBackend.figure_format = 'svg'\n",
    "%matplotlib inline"
   ]
  },
  {
   "cell_type": "code",
   "execution_count": 2,
   "metadata": {},
   "outputs": [],
   "source": [
    "review = pd.read_csv('yelp-dataset/yelp-dataset/yelp_review.csv')\n",
    "business = pd.read_csv('yelp-dataset/yelp-dataset/yelp_business.csv')"
   ]
  },
  {
   "cell_type": "code",
   "execution_count": 3,
   "metadata": {},
   "outputs": [],
   "source": [
    "business_rest = business[business['categories'].str.lower().str.contains('restaurants')]"
   ]
  },
  {
   "cell_type": "code",
   "execution_count": 4,
   "metadata": {},
   "outputs": [
    {
     "name": "stdout",
     "output_type": "stream",
     "text": [
      "CPU times: user 3 µs, sys: 0 ns, total: 3 µs\n",
      "Wall time: 6.44 µs\n"
     ]
    }
   ],
   "source": [
    "% time\n",
    "category = [business_rest.iloc[i,:]['categories'].lower() for i in range(business_rest.shape[0])]"
   ]
  },
  {
   "cell_type": "code",
   "execution_count": 117,
   "metadata": {},
   "outputs": [],
   "source": [
    "# restaurant's business id\n",
    "# remove not the restaurant's reviews\n",
    "bid = np.array(business_rest['business_id'])\n",
    "review_rest = review[review['business_id'].isin(bid)].reset_index()"
   ]
  },
  {
   "cell_type": "code",
   "execution_count": 10,
   "metadata": {},
   "outputs": [
    {
     "name": "stdout",
     "output_type": "stream",
     "text": [
      "CPU times: user 2 µs, sys: 1e+03 ns, total: 3 µs\n",
      "Wall time: 6.68 µs\n"
     ]
    }
   ],
   "source": [
    "% time\n",
    "categories = []\n",
    "removelist = ['restaurant','restaurants']\n",
    "for cat in category:\n",
    "    temp = cat.split(';')\n",
    "    temp = [t for t in temp if t not in removelist]\n",
    "    categories.append(temp)"
   ]
  },
  {
   "cell_type": "code",
   "execution_count": 13,
   "metadata": {},
   "outputs": [],
   "source": [
    "# a business could belong to multiple categories\n",
    "biz_cat_map = {biz:cat for biz, cat in zip(business_rest['business_id'],categories)}\n",
    "cot = [t for c in categories for t in c ]\n",
    "cot_ = Counter(cot)\n",
    "cat_top10 = sorted(cot_.items(), key=itemgetter(1),reverse=True)[:10]"
   ]
  },
  {
   "cell_type": "code",
   "execution_count": 122,
   "metadata": {},
   "outputs": [],
   "source": [
    "# (category:review)\n",
    "review_category_map = []\n",
    "for i in range(review_rest.shape[0]):\n",
    "    category = biz_cat_map.get(review_rest.loc[review_rest.index[i],'business_id'])\n",
    "    if category:\n",
    "        review_category_map.append(category)\n",
    "    else:\n",
    "        review_category_map.append(['NotFound'])\n",
    "review_category_map = np.array(review_category_map)"
   ]
  },
  {
   "cell_type": "code",
   "execution_count": 124,
   "metadata": {},
   "outputs": [],
   "source": [
    "# if any review doesn't have any corresponding category\n",
    "nocat = []\n",
    "for idx in range(len(review_category_map)):\n",
    "    if 'NotFound' in review_category_map[idx]:\n",
    "        nocat.append(idx)"
   ]
  },
  {
   "cell_type": "code",
   "execution_count": 126,
   "metadata": {},
   "outputs": [],
   "source": [
    "nocat = np.array(nocat)\n",
    "withcate = np.ones(len(review_category_map)).astype(bool)\n",
    "withcate[nocat] = False\n",
    "review_category_map = review_category_map[withcate] # len: 3219106"
   ]
  },
  {
   "cell_type": "code",
   "execution_count": 127,
   "metadata": {},
   "outputs": [
    {
     "data": {
      "text/plain": [
       "array([['diners', 'food', 'delis'], ['canadian (new)', 'italian'],\n",
       "       ['specialty food', 'food', 'sandwiches', 'burgers', 'delis'], ...,\n",
       "       ['chinese'], ['korean'],\n",
       "       ['seafood', 'nightlife', 'steakhouses', 'bars']], dtype=object)"
      ]
     },
     "execution_count": 127,
     "metadata": {},
     "output_type": "execute_result"
    }
   ],
   "source": [
    "review_category_map"
   ]
  },
  {
   "cell_type": "code",
   "execution_count": 128,
   "metadata": {},
   "outputs": [],
   "source": [
    "# remove any review without corresponding category\n",
    "review_text = review.iloc[withcate,:]['text'] # shape = (3219106,)"
   ]
  },
  {
   "cell_type": "code",
   "execution_count": 129,
   "metadata": {},
   "outputs": [],
   "source": [
    "mlb = MultiLabelBinarizer()\n",
    "multilabel = mlb.fit_transform(np.array(review_category_map)) # shape = (3219106, 697)"
   ]
  },
  {
   "cell_type": "code",
   "execution_count": 130,
   "metadata": {},
   "outputs": [],
   "source": [
    "label_name = mlb.classes_"
   ]
  },
  {
   "cell_type": "code",
   "execution_count": 132,
   "metadata": {},
   "outputs": [
    {
     "data": {
      "text/plain": [
       "array(['& probates', 'acai bowls', 'accessories', 'accountants',\n",
       "       'active life', 'acupuncture', 'adult', 'adult education',\n",
       "       'adult entertainment', 'advertising', 'afghan', 'african',\n",
       "       'air duct cleaning', 'aircraft repairs', 'airport lounges',\n",
       "       'airport shuttles', 'airport terminals', 'airports', 'airsoft',\n",
       "       'alsatian', 'amateur sports teams', 'american (new)',\n",
       "       'american (traditional)', 'amusement parks', 'animal shelters',\n",
       "       'antiques', 'apartments', 'appliances', 'appliances & repair',\n",
       "       'aquarium services', 'aquariums', 'arabian', 'arcades', 'argentine',\n",
       "       'armenian', 'art classes', 'art galleries', 'art schools',\n",
       "       'arts & crafts', 'arts & entertainment', 'asian fusion',\n",
       "       'australian', 'austrian', 'auto customization', 'auto detailing',\n",
       "       'auto glass services', 'auto insurance', 'auto parts & supplies',\n",
       "       'auto repair', 'auto upholstery', 'automotive',\n",
       "       'baby gear & furniture', 'baden', 'bagels', 'baguettes', 'bakeries',\n",
       "       'bangladeshi', 'bankruptcy law', 'banks & credit unions',\n",
       "       'bar crawl', 'barbeque', 'barbers', 'bars', 'bartenders',\n",
       "       'bartending schools', 'basque', 'batting cages', 'bavarian',\n",
       "       'beach bars', 'beaches', 'beauty & spas', 'bed & breakfast', 'beer',\n",
       "       'beer bar', 'beer garden', 'beer gardens', 'beer hall',\n",
       "       'beer tours', 'belgian', 'beverage store', 'bike rentals',\n",
       "       'bike repair/maintenance', 'bikes', 'bingo halls', 'bistros',\n",
       "       'boat charters', 'boating', 'body shops', 'books', 'bookstores',\n",
       "       'botanical gardens', 'bowling', 'brasseries', 'brazilian',\n",
       "       'breakfast & brunch', 'breweries', 'brewpubs', 'bridal', 'british',\n",
       "       'bubble tea', 'buffets', 'building supplies', 'bulgarian',\n",
       "       'burgers', 'burmese', 'business consulting', 'butcher', 'cabaret',\n",
       "       'cafes', 'cafeteria', 'cajun/creole', 'cambodian', 'campgrounds',\n",
       "       'canadian (new)', 'candy stores', 'cannabis clinics', 'cantonese',\n",
       "       'car dealers', 'car rental', 'car share services', 'car wash',\n",
       "       'car window tinting', 'cardiologists', 'cards & stationery',\n",
       "       'caribbean', 'casinos', 'castles', 'caterers', 'champagne bars',\n",
       "       'check cashing/pay-day loans', 'cheese shops',\n",
       "       'cheese tasting classes', 'cheesesteaks', 'chicken shop',\n",
       "       'chicken wings', 'chinese', 'chiropractors', 'chocolatiers & shops',\n",
       "       'christmas trees', 'churches', 'churros', 'cideries', 'cinema',\n",
       "       'climbing', 'clothing rental', 'club crawl', 'cocktail bars',\n",
       "       'coffee & tea', 'coffee & tea supplies', 'coffee roasteries',\n",
       "       'coffeeshops', 'colleges & universities', 'colombian',\n",
       "       'comedy clubs', 'comfort food', 'comic books', 'community centers',\n",
       "       'community service/non-profit', 'computers', 'contractors',\n",
       "       'convenience stores', 'conveyor belt sushi', 'cooking classes',\n",
       "       'cooking schools', 'cosmetic dentists', 'cosmetic surgeons',\n",
       "       'cosmetics & beauty supply', 'counseling & mental health',\n",
       "       'country clubs', 'country dance halls',\n",
       "       'couriers & delivery services', 'creperies', 'csa', 'cuban',\n",
       "       'cultural center', 'cupcakes', 'currency exchange', 'curry sausage',\n",
       "       'custom cakes', 'czech', 'czech/slovakian', 'damage restoration',\n",
       "       'dance clubs', 'dance schools', 'dance studios', 'day spas',\n",
       "       'delicatessen', 'delis', 'dentists', 'department stores',\n",
       "       'desserts', 'dim sum', 'diners', 'dinner theater', 'discount store',\n",
       "       'distilleries', 'dive bars', 'djs', 'do-it-yourself food',\n",
       "       'doctors', 'dog walkers', 'dominican', 'donairs', 'donuts',\n",
       "       'door sales/installation', 'drive-thru bars', 'drugstores',\n",
       "       'dry cleaning', 'dry cleaning & laundry', 'eastern european',\n",
       "       'eastern german', 'eatertainment', 'education', 'egyptian',\n",
       "       'electronics', 'elementary schools', 'empanadas', 'escape games',\n",
       "       'estate liquidation', 'estate planning law', 'ethical grocery',\n",
       "       'ethiopian', 'ethnic food', 'ethnic grocery', 'event photography',\n",
       "       'event planning & services', 'eyebrow services', 'eyelash service',\n",
       "       'falafel', 'family practice', 'farmers market', 'farms', 'fashion',\n",
       "       'fast food', 'feng shui', 'festivals', 'filipino',\n",
       "       'financial advising', 'financial services',\n",
       "       'fire protection services', 'fireplace services', 'fischbroetchen',\n",
       "       'fish & chips', 'fishmonger', 'fitness & instruction', 'flatbread',\n",
       "       'flea markets', 'flooring', 'florists', 'flowers & gifts', 'fondue',\n",
       "       'food', 'food court', 'food delivery services', 'food stands',\n",
       "       'food tours', 'food trucks', 'formal wear', 'foundation repair',\n",
       "       'framing', 'french', 'friterie', 'fruits & veggies',\n",
       "       'funeral services & cemeteries', 'fur clothing', 'furniture rental',\n",
       "       'furniture repair', 'furniture reupholstery', 'furniture stores',\n",
       "       'game meat', 'gardeners', 'gas stations', 'gastropubs', 'gay bars',\n",
       "       'gelato', 'general dentistry', 'georgian', 'german', 'gift shops',\n",
       "       'glass & mirrors', 'gluten-free', 'go karts', 'golf',\n",
       "       'golf equipment', 'golf equipment shops', 'golf lessons',\n",
       "       'graphic design', 'greek', 'grilling equipment', 'grocery',\n",
       "       'guamanian', 'guest houses', 'gun/rifle ranges', 'gyms', 'hainan',\n",
       "       'hair extensions', 'hair removal', 'hair salons', 'hair stylists',\n",
       "       'haitian', 'hakka', 'halal', 'handyman', 'hardware stores',\n",
       "       'hawaiian', 'head shops', 'health & medical', 'health markets',\n",
       "       'health retreats', 'heating & air conditioning/hvac',\n",
       "       'herbs & spices', 'hiking', 'himalayan/nepalese',\n",
       "       'historical tours', 'hobby shops', 'home & garden', 'home cleaning',\n",
       "       'home decor', 'home health care', 'home inspectors',\n",
       "       'home services', 'honduran', 'honey', 'hong kong style cafe',\n",
       "       'hookah bars', 'horse racing', 'horseback riding', 'hospitals',\n",
       "       'hostels', 'hot dogs', 'hot pot', 'hot tub & pool', 'hotel bar',\n",
       "       'hotels', 'hotels & travel', 'hungarian', 'iberian',\n",
       "       'ice cream & frozen yogurt', 'ice delivery', 'imported food',\n",
       "       'indian', 'indonesian', 'indoor playcentre', 'insurance',\n",
       "       'interior design', 'international', 'international grocery',\n",
       "       'internet cafes', 'internet service providers', 'investing',\n",
       "       'irish', 'irish pub', 'island pub', 'it services & computer repair',\n",
       "       'italian', 'izakaya', 'japanese', 'japanese curry', 'jazz & blues',\n",
       "       'jewelry', 'juice bars & smoothies', 'karaoke', 'kebab',\n",
       "       'keys & locksmiths', 'kids activities', 'kiosk', 'kitchen & bath',\n",
       "       'knife sharpening', 'kombucha', 'korean', 'kosher', 'lakes',\n",
       "       'landmarks & historical buildings', 'landscape architects',\n",
       "       'landscaping', 'laotian', 'laser hair removal', 'laser tag',\n",
       "       'latin american', 'laundromat', 'laundry services', 'lawyers',\n",
       "       'leather goods', 'lebanese', 'leisure centers', 'libraries',\n",
       "       'life coach', 'lighting fixtures & equipment', 'limos',\n",
       "       'live/raw food', 'local fish stores', 'local flavor',\n",
       "       'local services', 'lounges', 'macarons', 'magicians', 'mags',\n",
       "       'mailbox centers', 'makeup artists', 'malaysian', 'marinas',\n",
       "       'marketing', 'martial arts', 'masonry/concrete', 'massage',\n",
       "       'massage therapy', 'mattresses', 'mauritius', 'meat shops',\n",
       "       'medical centers', 'medical spas', 'medical transportation',\n",
       "       'meditation centers', 'mediterranean', \"men's clothing\", 'mexican',\n",
       "       'middle eastern', 'milkshake bars', 'minho', 'mini golf',\n",
       "       'mobile phone repair', 'mobile phones', 'modern european',\n",
       "       'mongolian', 'moroccan', 'mortgage brokers', 'mosques',\n",
       "       'motorcycle repair', 'mountain biking', 'mulled wine', 'museums',\n",
       "       'music & dvds', 'music & video', 'music venues', 'musicians',\n",
       "       'nail salons', 'nail technicians', 'new mexican cuisine',\n",
       "       'newspapers & magazines', 'nicaraguan', 'nightlife', 'noodles',\n",
       "       'notaries', 'nurseries & gardening', 'nutritionists',\n",
       "       'observatories', 'occupational therapy', 'office cleaning',\n",
       "       'oil change stations', 'olive oil', 'opera & ballet',\n",
       "       'organic stores', 'oriental', 'orthodontists',\n",
       "       'outdoor furniture stores', 'outlet stores', 'paint & sip',\n",
       "       'paint-your-own pottery', 'pakistani', 'palatine', 'pan asian',\n",
       "       'parent cafes', 'parks', 'party & event planning',\n",
       "       'party bus rentals', 'party equipment rentals', 'party supplies',\n",
       "       'pasta shops', 'patisserie/cake shop', 'pawn shops',\n",
       "       'pediatricians', 'pensions', 'performing arts', 'persian/iranian',\n",
       "       'personal assistants', 'personal chefs', 'personal shopping',\n",
       "       'peruvian', 'pet adoption', 'pet boarding', 'pet groomers',\n",
       "       'pet services', 'pet sitting', 'pet stores', 'pets', 'pharmacy',\n",
       "       'photo booth rentals', 'photographers', 'physical therapy',\n",
       "       'piano bars', 'pick your own farms', 'piercing', 'pilates', 'pita',\n",
       "       'pizza', 'playgrounds', 'plumbing', 'podiatrists', 'poke', 'polish',\n",
       "       'pool & billiards', 'pool & hot tub service', 'pool halls',\n",
       "       'pop-up restaurants', 'pop-up shops', 'popcorn shops', 'portuguese',\n",
       "       'post offices', 'poutineries', 'preschools', 'pretzels',\n",
       "       'printing services', 'professional services', 'property management',\n",
       "       'pub food', 'public markets', 'public services & government',\n",
       "       'public transportation', 'pubs', 'puerto rican', 'pumpkin patches',\n",
       "       'race tracks', 'ramen', 'real estate', 'real estate agents',\n",
       "       'real estate services', 'recreation centers', 'reflexology',\n",
       "       'rehabilitation center', 'religious organizations', 'resorts',\n",
       "       'rest stops', 'restaurant supplies', 'reunion', 'rock climbing',\n",
       "       'roofing', 'rotisserie chicken', 'russian', 'rv parks', 'rv repair',\n",
       "       'sailing', 'salad', 'salvadoran', 'sandwiches', 'scandinavian',\n",
       "       'schnitzel', 'scottish', 'screen printing',\n",
       "       'screen printing/t-shirt printing', 'seafood', 'seafood markets',\n",
       "       'security services', 'security systems', 'senegalese',\n",
       "       'septic services', 'serbo croatian', 'session photography',\n",
       "       'sewing & alterations', 'shanghainese', 'shared office spaces',\n",
       "       'shaved ice', 'shaved snow', 'shoe stores', 'shopping',\n",
       "       'shopping centers', 'sicilian', 'siding', 'signature cuisine',\n",
       "       'signmaking', 'singaporean', 'skating rinks', 'ski resorts',\n",
       "       'skin care', 'slovakian', 'smokehouse', 'soba', 'soccer',\n",
       "       'social clubs', 'software development', 'soul food', 'soup',\n",
       "       'south african', 'southern', 'souvenir shops', 'spanish',\n",
       "       'speakeasies', 'special education', 'specialty food',\n",
       "       'specialty schools', 'sporting goods', 'sports bars',\n",
       "       'sports clubs', 'sports medicine', 'sports wear', 'spray tanning',\n",
       "       'sri lankan', 'stadiums & arenas', 'steakhouses', 'street vendors',\n",
       "       'strip clubs', 'sugar shacks', 'summer camps',\n",
       "       'supernatural readings', 'supper clubs', 'sushi bars', 'swabian',\n",
       "       'swimming pools', 'swiss food', 'syrian', 'szechuan',\n",
       "       'tabletop games', 'tacos', 'taiwanese', 'tanning', 'tapas bars',\n",
       "       'tapas/small plates', 'tasting classes', 'tattoo', 'tax law',\n",
       "       'tax services', 'taxis', 'tea rooms', 'team building activities',\n",
       "       'teeth whitening', 'tempura', 'tennis', 'teppanyaki', 'tex-mex',\n",
       "       'thai', 'themed cafes', 'ticket sales', 'tiki bars', 'tires',\n",
       "       'tobacco shops', 'tonkatsu', 'tours', 'towing', 'toy stores',\n",
       "       'traditional norwegian', 'trainers', 'transmission repair',\n",
       "       'transportation', 'travel services', 'trinidadian', 'truck rental',\n",
       "       'trusts', 'turkish', 'tuscan', 'udon', 'ukrainian',\n",
       "       'unofficial yelp events', 'used', 'used bookstore', 'uzbek',\n",
       "       'vacation rentals', 'vape shops', 'vegan', 'vegetarian',\n",
       "       'vehicle wraps', 'venezuelan', 'venues & event spaces',\n",
       "       'veterinarians', 'video game stores', 'videos & video game rental',\n",
       "       'vietnamese', 'vintage & consignment', 'vinyl records',\n",
       "       'virtual reality centers', 'visitor centers',\n",
       "       'vitamins & supplements', 'waffles', 'walking tours',\n",
       "       'water heater installation/repair', 'water stores', 'waxing',\n",
       "       'web design', 'wedding chapels', 'wedding planning',\n",
       "       'weight loss centers', 'whiskey bars', 'wholesale stores',\n",
       "       'wholesalers', 'wigs', 'wills', 'windows installation',\n",
       "       'windshield installation & repair', 'wine & spirits', 'wine bars',\n",
       "       'wine tasting room', 'wine tours', 'wineries', 'wok',\n",
       "       \"women's clothing\", 'wraps', 'yelp events', 'yoga', 'zoos'], dtype=object)"
      ]
     },
     "execution_count": 132,
     "metadata": {},
     "output_type": "execute_result"
    }
   ],
   "source": [
    "label_name"
   ]
  }
 ],
 "metadata": {
  "kernelspec": {
   "display_name": "Python 3",
   "language": "python",
   "name": "python3"
  },
  "language_info": {
   "codemirror_mode": {
    "name": "ipython",
    "version": 3
   },
   "file_extension": ".py",
   "mimetype": "text/x-python",
   "name": "python",
   "nbconvert_exporter": "python",
   "pygments_lexer": "ipython3",
   "version": "3.5.2"
  }
 },
 "nbformat": 4,
 "nbformat_minor": 2
}
